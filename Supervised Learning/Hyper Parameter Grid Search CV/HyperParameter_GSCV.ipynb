{
 "cells": [
  {
   "cell_type": "code",
   "execution_count": 1,
   "metadata": {},
   "outputs": [],
   "source": [
    "# Loading Libraries\n",
    "\n",
    "import pandas as pd \n",
    "from matplotlib import pyplot as plt \n",
    "%matplotlib inline\n",
    "from sklearn.model_selection import train_test_split\n",
    "from sklearn.linear_model import LogisticRegression\n",
    "from sklearn.tree import DecisionTreeClassifier\n",
    "from sklearn.ensemble import RandomForestClassifier\n",
    "from sklearn.ensemble import AdaBoostClassifier\n",
    "from sklearn.ensemble import GradientBoostingClassifier\n",
    "from sklearn.svm import SVC\n",
    "from sklearn.metrics import accuracy_score\n",
    "from sklearn.model_selection import GridSearchCV"
   ]
  },
  {
   "cell_type": "code",
   "execution_count": 2,
   "metadata": {},
   "outputs": [],
   "source": [
    "data = pd.read_csv(\"breast_cancer_data.csv\")\n",
    "data.drop(['id','Unnamed: 32'],axis=1,inplace=True)\n",
    "# map function for mapping benign into 0 and malignant into 1\n",
    "data['diagnosis'] = data['diagnosis'].map({'B':0,'M':1})\n",
    "\n",
    "X=data.drop(['diagnosis'],axis=1)\n",
    "y=data['diagnosis']\n",
    "\n",
    "X_train, X_test, y_train, y_test = train_test_split(X, y, test_size=0.33,random_state=42)"
   ]
  },
  {
   "cell_type": "code",
   "execution_count": 3,
   "metadata": {},
   "outputs": [
    {
     "data": {
      "text/plain": [
       "(381, 30)"
      ]
     },
     "execution_count": 3,
     "metadata": {},
     "output_type": "execute_result"
    }
   ],
   "source": [
    "X_train.shape"
   ]
  },
  {
   "cell_type": "code",
   "execution_count": null,
   "metadata": {},
   "outputs": [],
   "source": [
    "# Initializing GridSearchCV() object and fitting it with hyperparameters\n",
    "\n",
    "log = LogisticRegression()\n",
    "rnd = RandomForestClassifier()\n",
    "adaboost = AdaBoostClassifier()\n",
    "gBoost = GradientBoostingClassifier()\n",
    "svm = SVC()\n",
    "\n",
    "# random forest\n",
    "\n",
    "forest_hyperparams = [{'n_estimators':[50,80,100,150,200,300,400,500],'criterion':['gini','entropy','log_loss'],'max_depth':list(range(10,15)),'max_features':list(range(5,20))}]\n",
    "\n",
    "# forest_hyperparams is a dictionary where keys are parameters and values are their values respective for each parameters.\n",
    "# n_estimators is the number of trees in a  forest. Default value is 100. \n",
    "# max_features is the number of columns taken for making a single tree. columns will be taken randomly and columns can go up to full columns in the dataset. \n",
    "# Make sure to check the number of columns in the data set before giving value for max_features.\n",
    "\n",
    "grid_clf = GridSearchCV(rnd,forest_hyperparams,cv=10,scoring='accuracy')\n",
    "\n",
    "# Here RandomForestClassifier is taken. forest_hyperparams is taken to give in GridSearchCV. cv is cross validation generator.\n",
    "# If cv is not given, it will take as none and take default 5-fold cross validation.\n",
    "# scoring is to specify the parameters must be choosed based on accuracy, recall, precision, etc. Eg: For regression problems, scoring must be based on accuracy.\n",
    "# Classification problems can go for accuracy, precision or recall.\n",
    "grid_clf.fit(X_train,y_train)\n"
   ]
  },
  {
   "cell_type": "code",
   "execution_count": 4,
   "metadata": {},
   "outputs": [
    {
     "data": {
      "text/plain": [
       "[10, 11, 12, 13, 14]"
      ]
     },
     "execution_count": 4,
     "metadata": {},
     "output_type": "execute_result"
    }
   ],
   "source": [
    "list(range(10,15))"
   ]
  },
  {
   "cell_type": "code",
   "execution_count": null,
   "metadata": {},
   "outputs": [],
   "source": [
    "print(grid_clf.best_params_)                    # Will give best parameters for each keys in forest_hyperparams, for doing Random Forest         \n",
    "print(grid_clf.best_score_)                     # Will print score with the best parameters."
   ]
  }
 ],
 "metadata": {
  "kernelspec": {
   "display_name": "Python 3.9.7 ('base')",
   "language": "python",
   "name": "python3"
  },
  "language_info": {
   "codemirror_mode": {
    "name": "ipython",
    "version": 3
   },
   "file_extension": ".py",
   "mimetype": "text/x-python",
   "name": "python",
   "nbconvert_exporter": "python",
   "pygments_lexer": "ipython3",
   "version": "3.9.7"
  },
  "orig_nbformat": 4,
  "vscode": {
   "interpreter": {
    "hash": "2043299c89c8cd0b4d1a6f5cf4529bd58e6a4e0fe3181a25e0d328c821cdc5c5"
   }
  }
 },
 "nbformat": 4,
 "nbformat_minor": 2
}
